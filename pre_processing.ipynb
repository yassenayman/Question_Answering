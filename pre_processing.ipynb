{
 "cells": [
  {
   "cell_type": "code",
   "execution_count": 4,
   "id": "0a897cb1",
   "metadata": {},
   "outputs": [
    {
     "data": {
      "text/plain": [
       "\" '!$%&'()*-;?[\\\\]^_`{|}~'\""
      ]
     },
     "execution_count": 4,
     "metadata": {},
     "output_type": "execute_result"
    }
   ],
   "source": [
    "import string\n",
    "import re\n",
    "punc=\" '!\"\"$%&\\'()*-;?[\\\\]^_`{|}~'\"\n",
    "punc"
   ]
  },
  {
   "cell_type": "code",
   "execution_count": 5,
   "id": "b4dae126",
   "metadata": {},
   "outputs": [],
   "source": [
    "txt_file=open('origin football.txt',encoding=\"utf-8\")\n",
    "#read whole file to a string\n",
    "data = txt_file.read()\n",
    " \n",
    "#close file\n",
    "txt_file.close()\n",
    " \n"
   ]
  },
  {
   "cell_type": "markdown",
   "id": "08d3d3ba",
   "metadata": {},
   "source": [
    "# remove punctutuation "
   ]
  },
  {
   "cell_type": "code",
   "execution_count": 6,
   "id": "28fe7b67",
   "metadata": {},
   "outputs": [],
   "source": [
    "txtData=\"\"\n",
    "for char in data:\n",
    "    if (char not in punc  or char ==\" \" and char.isascii()):\n",
    "        txtData=txtData+char"
   ]
  },
  {
   "cell_type": "markdown",
   "id": "f00572f1",
   "metadata": {},
   "source": [
    "# Remove numbers"
   ]
  },
  {
   "cell_type": "code",
   "execution_count": 7,
   "id": "f3fa111f",
   "metadata": {},
   "outputs": [],
   "source": [
    "pattern = r'[0-9]'\n",
    "new_string = re.sub(pattern, '', txtData)\n"
   ]
  },
  {
   "cell_type": "markdown",
   "id": "5093cf61",
   "metadata": {},
   "source": [
    "# remove mails"
   ]
  },
  {
   "cell_type": "code",
   "execution_count": 9,
   "id": "406a16f8",
   "metadata": {},
   "outputs": [],
   "source": [
    "out = ' '.join([item for item in new_string.split() if '.com' not in item])\n"
   ]
  },
  {
   "cell_type": "markdown",
   "id": "e45936f9",
   "metadata": {},
   "source": [
    "# remove arabic words"
   ]
  },
  {
   "cell_type": "code",
   "execution_count": 10,
   "id": "272fb9b6",
   "metadata": {},
   "outputs": [],
   "source": [
    "out=re.sub('[\\u0600-\\u06ff]+', '',out)\n"
   ]
  }
 ],
 "metadata": {
  "kernelspec": {
   "display_name": "Python 3 (ipykernel)",
   "language": "python",
   "name": "python3"
  },
  "language_info": {
   "codemirror_mode": {
    "name": "ipython",
    "version": 3
   },
   "file_extension": ".py",
   "mimetype": "text/x-python",
   "name": "python",
   "nbconvert_exporter": "python",
   "pygments_lexer": "ipython3",
   "version": "3.8.8"
  }
 },
 "nbformat": 4,
 "nbformat_minor": 5
}
